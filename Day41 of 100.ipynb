{
 "cells": [
  {
   "cell_type": "code",
   "execution_count": 1,
   "id": "588f3059",
   "metadata": {},
   "outputs": [
    {
     "name": "stdout",
     "output_type": "stream",
     "text": [
      "\n",
      "\n",
      "\n",
      "\n",
      "name: Jagruthi\n",
      "url: https://iamjagruthi.github.com\n",
      "desc: mpme\n",
      "rating: 5\n"
     ]
    }
   ],
   "source": [
    "website = {\"name\":None, \"url\":None, \"desc\": None, \"rating\":None}\n",
    "for name in website.keys():\n",
    "  website[name] = input(f\"{name}:\")\n",
    "  print()\n",
    "for name, value in website.items():\n",
    "  print(f\"{name}: {value}\")"
   ]
  }
 ],
 "metadata": {
  "kernelspec": {
   "display_name": "base",
   "language": "python",
   "name": "python3"
  },
  "language_info": {
   "codemirror_mode": {
    "name": "ipython",
    "version": 3
   },
   "file_extension": ".py",
   "mimetype": "text/x-python",
   "name": "python",
   "nbconvert_exporter": "python",
   "pygments_lexer": "ipython3",
   "version": "3.12.7"
  }
 },
 "nbformat": 4,
 "nbformat_minor": 5
}
