{
 "cells": [
  {
   "cell_type": "markdown",
   "id": "dd59c24a",
   "metadata": {},
   "source": [
    "## os Library ##\n",
    "What is the os library?\n",
    "\n",
    "It allows us to \"talk\" to the console. One of the most powerful things we can do with this library is allow it to clear the console.\n",
    "\n",
    "Import the os library\n",
    "👉 Well, this just prints a list of numbers to 1,000..."
   ]
  },
  {
   "cell_type": "code",
   "execution_count": null,
   "id": "10eaba0e",
   "metadata": {},
   "outputs": [],
   "source": [
    "from replit import audio\n",
    "import os, time\n",
    "\n",
    "def play():\n",
    "  source = audio.play_file('audio.wav')\n",
    "  source.paused = False\n",
    "  while True:\n",
    "    x = int(input(\"give an input:\"))\n",
    "    print(x)\n",
    "    if \"x==2\":\n",
    "      print(\"do you wnat to exit?:\")\n",
    "    elif \"x==1\":\n",
    "      y = play()\n",
    "      print(y)\n",
    "    else:\n",
    "      menu = (\"press1 to play.\\npress2 to exit\\n.press any other key to get the menu\")\n",
    "      print(menu)\n",
    "    \n",
    "  time.sleep(2)\n",
    "  os.system(\"clear\")"
   ]
  }
 ],
 "metadata": {
  "kernelspec": {
   "display_name": "base",
   "language": "python",
   "name": "python3"
  },
  "language_info": {
   "codemirror_mode": {
    "name": "ipython",
    "version": 3
   },
   "file_extension": ".py",
   "mimetype": "text/x-python",
   "name": "python",
   "nbconvert_exporter": "python",
   "pygments_lexer": "ipython3",
   "version": "3.12.7"
  }
 },
 "nbformat": 4,
 "nbformat_minor": 5
}
