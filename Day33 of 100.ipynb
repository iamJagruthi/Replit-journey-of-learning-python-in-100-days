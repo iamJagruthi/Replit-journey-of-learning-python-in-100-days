{
 "cells": [
  {
   "cell_type": "markdown",
   "id": "dd59c24a",
   "metadata": {},
   "source": [
    "# Day 33 challenge \n",
    "# Dynamic Lists\n",
    "Dynamic lists are ways of using a blank list and adding or removing items to it as we go.\n",
    "\n",
    "Blank lists\n",
    "👉 Let's make an agenda for today. I am not going to put anything in this list (yet). Behind the scenes, the computer is going to recognize this code as a blank list."
   ]
  },
  {
   "cell_type": "code",
   "execution_count": null,
   "id": "6d2c99ce",
   "metadata": {},
   "outputs": [
    {
     "name": "stdout",
     "output_type": "stream",
     "text": [
      "To-Do List Manager\n",
      "\n",
      "\n",
      "\n",
      "\n",
      "\n",
      "\n",
      "\n",
      "\n",
      "\n",
      "brushing the teeth\n",
      "bath\n",
      "study\n",
      "\n",
      "\n",
      "\n",
      "brushing the teeth\n",
      "bath\n",
      "study\n",
      "\n",
      "\n",
      "brushing the teeth\n",
      "bath\n",
      "playing games\n",
      "\n"
     ]
    }
   ],
   "source": [
    "print(\"To-Do List Manager\\n\")\n",
    "\n",
    "todoList = []\n",
    "\n",
    "def printList():\n",
    "  print()\n",
    "  for item in todoList:\n",
    "    print(item)\n",
    "  print()\n",
    "\n",
    "while True:\n",
    "  task = input(\"Do you want to view, add or edit the todo list?\\n\")\n",
    "  if task == \"add\":\n",
    "    print()\n",
    "    item = input(\"What do you want to add?: \\n\")\n",
    "    todoList.append(item)\n",
    "    print()\n",
    "  elif task == \"view\":\n",
    "    print()\n",
    "    printList()\n",
    "  else:\n",
    "    print()\n",
    "    if task == \"edit\":\n",
    "      printList()\n",
    "      edit1 = input(\"Do you want to change an existing item or remove it? (select either change or remove): \")\n",
    "      if edit1 == \"change\":\n",
    "        item = input(\"Which item to change?: \")\n",
    "        if item in todoList:\n",
    "          todoList.remove(item)\n",
    "          item1 = input(\"replace above with: \")\n",
    "          todoList.append(item1)\n",
    "          printList()\n",
    "        else:\n",
    "          print(f\"{item} is not in the list\")\n",
    "      elif edit1 == \"remove\":\n",
    "        item1 = input(\"which item to remove?: \")\n",
    "        if item1 in todoList:\n",
    "          todoList.remove(item1)\n",
    "          printList()\n",
    "        else:\n",
    "          print(f\"{item1} is not in the list\")\n",
    "\n",
    "    else:\n",
    "      print(f\"{task} is not in the list\")"
   ]
  },
  {
   "cell_type": "code",
   "execution_count": null,
   "id": "4e70a207",
   "metadata": {},
   "outputs": [],
   "source": []
  }
 ],
 "metadata": {
  "kernelspec": {
   "display_name": "base",
   "language": "python",
   "name": "python3"
  },
  "language_info": {
   "codemirror_mode": {
    "name": "ipython",
    "version": 3
   },
   "file_extension": ".py",
   "mimetype": "text/x-python",
   "name": "python",
   "nbconvert_exporter": "python",
   "pygments_lexer": "ipython3",
   "version": "3.12.7"
  }
 },
 "nbformat": 4,
 "nbformat_minor": 5
}
