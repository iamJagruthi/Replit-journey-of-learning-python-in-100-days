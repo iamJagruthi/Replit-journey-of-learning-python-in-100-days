{
 "cells": [
  {
   "cell_type": "markdown",
   "id": "dd59c24a",
   "metadata": {},
   "source": [
    "## Day 29 Challenge\n",
    "Secret One: end\n",
    "You can already create print statements like a boss, but there are a few things you can do to make them easier.\n",
    "\n",
    "Let's add a few secret second arguments to the print statement and see what happens.\n",
    "\n",
    "By default, at the end of every print statement, the computer clicks 'enter'."
   ]
  },
  {
   "cell_type": "markdown",
   "id": "78eb28ea",
   "metadata": {},
   "source": [
    "Add a space\n",
    "👉 Let's tweak that code and see if we can get it to print with a space between each number instead of a new line. What do you notice?\n",
    "\n",
    "for i in range(0, 100):\n",
    "  print(i, end=\" \")\n",
    "\n",
    "Add a space and comma\n",
    "\n",
    "👉 What if we want to add a comma and a space? Let's try it by adding , to our argument.\n",
    "\n",
    "for i in range(0, 100):\n",
    "  print(i, end=\", \")\n",
    "\n",
    "Now this looks like a proper list!\n",
    "\n",
    "Add a new line, tab, or vertical tab\n",
    "\n",
    "👉 What happens if you add these different options in your second argument? Play around with these options below and see what they do:\n",
    "\n",
    "#new line\n",
    "for i in range(0, 100):\n",
    "  print(i, end=\"\\n\")\n",
    "#tab indent\n",
    "for i in range(0, 100):\n",
    "  print(i, end=\"\\t\")\n",
    "#vertical tab\n",
    "for i in range(0, 100):\n",
    "  print(i, end=\"\\v\")\n",
    "Play around with end. What can it do?"
   ]
  },
  {
   "cell_type": "code",
   "execution_count": 1,
   "id": "00d35770",
   "metadata": {},
   "outputs": [
    {
     "name": "stdout",
     "output_type": "stream",
     "text": [
      "\n"
     ]
    }
   ],
   "source": [
    "def print_word_in_color(word,color):\n",
    "  word = \"With my new program I can just call red (\"and\") and that word will appear in the color I set it to.\\n With no weird gaps \\n Epic\"\n",
    "  if color == \"red\":\n",
    "    print(\"\\033[31m\",\"and\")\n",
    "  else:\n",
    "   print(\"\\033[33m\",word)\n",
    "print()"
   ]
  }
 ],
 "metadata": {
  "kernelspec": {
   "display_name": "base",
   "language": "python",
   "name": "python3"
  },
  "language_info": {
   "codemirror_mode": {
    "name": "ipython",
    "version": 3
   },
   "file_extension": ".py",
   "mimetype": "text/x-python",
   "name": "python",
   "nbconvert_exporter": "python",
   "pygments_lexer": "ipython3",
   "version": "3.12.7"
  }
 },
 "nbformat": 4,
 "nbformat_minor": 5
}
