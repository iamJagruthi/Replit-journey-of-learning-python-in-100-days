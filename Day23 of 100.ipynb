{
 "cells": [
  {
   "cell_type": "markdown",
   "id": "dd59c24a",
   "metadata": {},
   "source": [
    "##Subroutine##\n",
    "\n",
    "So far, when we wanted to repeat code, we have had to use loops or copy and paste code.\n",
    "\n",
    "What if I told you there was a way to use code or call it and use it anytime anywhere??\n",
    "\n",
    "That is a subroutine!!\n",
    "\n",
    "A subroutine tells the computer that a piece of code exists and to go run that code again and again..."
   ]
  },
  {
   "cell_type": "code",
   "execution_count": 1,
   "id": "373ea584",
   "metadata": {},
   "outputs": [
    {
     "name": "stdout",
     "output_type": "stream",
     "text": [
      "\n",
      "\u001b[36m Oops!!wrong user id,try agian:(\n"
     ]
    }
   ],
   "source": [
    "def loginSystem():\n",
    "  sentence=\"What is your username?:\"\n",
    "  username = input(sentence)\n",
    "  print(username)\n",
    "  if username ==\"david\":\n",
    "    print(\"\\033[32m\",\"hi david!\")\n",
    "    password=input(\"what is your password:\")\n",
    "    if password == \"Baldie4life\":\n",
    "      print(\"\\033[32m\",\"welcome to Replit\")\n",
    "    else:\n",
    "      print(\"\\033[36m\",\"wrong password,try again:(\")\n",
    "  else:\n",
    "    print(\"\\033[36m\",\"Oops!!wrong user id,try agian:(\")\n",
    "loginSystem()"
   ]
  }
 ],
 "metadata": {
  "kernelspec": {
   "display_name": "base",
   "language": "python",
   "name": "python3"
  },
  "language_info": {
   "codemirror_mode": {
    "name": "ipython",
    "version": 3
   },
   "file_extension": ".py",
   "mimetype": "text/x-python",
   "name": "python",
   "nbconvert_exporter": "python",
   "pygments_lexer": "ipython3",
   "version": "3.12.7"
  }
 },
 "nbformat": 4,
 "nbformat_minor": 5
}
