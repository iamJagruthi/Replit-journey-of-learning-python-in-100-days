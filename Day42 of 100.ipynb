{
 "cells": [
  {
   "cell_type": "markdown",
   "id": "8054b841",
   "metadata": {},
   "source": [
    "# Day 42\n",
    "Gotta Catch 'Em All....\n",
    "And Put Them In A Dictionary\n",
    "This challenge is all about using dictionaries to create a game about small creatures that you have captured, enslaved, and forced to fight for your amusement. You monster.\n",
    "\n",
    "This game works in a completely non-copyright and totally lawyer friendly way. Pika-who? I have absolutely no idea what you mean..... officer."
   ]
  },
  {
   "cell_type": "code",
   "execution_count": 1,
   "id": "ba6bf7a2",
   "metadata": {},
   "outputs": [
    {
     "name": "stdout",
     "output_type": "stream",
     "text": [
      "MokeBeast\n",
      "\n",
      "/033[33m  Beast Name     : Avatar\n",
      " Type           : Airbender\n",
      " Special Move   : Air Bending\n",
      " HP             : 5000\n",
      " MP             : 2504\n"
     ]
    }
   ],
   "source": [
    "mokedex= {\"Beast Name\": None,\"Type\":None, \"Special Move\":None, \"HP\":None, \"MP\":None}\n",
    "\n",
    "print(\"MokeBeast\")\n",
    "print()\n",
    "\n",
    "for name, value in mokedex.items():\n",
    "  mokedex[name]= input(f\"{name}:\\t\").strip().title()\n",
    "\n",
    "if  mokedex[\"Type\"]==\"Earth\":\n",
    "  print(\"\\033[32m\", end=\" \")\n",
    "elif mokedex[\"Type\"]==\"Air\":\n",
    "  print(\"\\033[37m\", end=\" \")\n",
    "elif mokedex[\"Type\"]==\"Fire\":\n",
    "  print(\"\\033[31m\", end=\" \")\n",
    "elif mokedex[\"Type\"]==\"Water\":\n",
    "  print(\"033[34m\", end=\" \")\n",
    "else:\n",
    "  print(\"/033[33m\", end=\" \")\n",
    "\n",
    "for name, value in mokedex.items():\n",
    "  print(f\" {name:<15}: {value}\")"
   ]
  },
  {
   "cell_type": "code",
   "execution_count": null,
   "id": "febb89e5",
   "metadata": {},
   "outputs": [],
   "source": []
  }
 ],
 "metadata": {
  "kernelspec": {
   "display_name": "base",
   "language": "python",
   "name": "python3"
  },
  "language_info": {
   "codemirror_mode": {
    "name": "ipython",
    "version": 3
   },
   "file_extension": ".py",
   "mimetype": "text/x-python",
   "name": "python",
   "nbconvert_exporter": "python",
   "pygments_lexer": "ipython3",
   "version": "3.12.7"
  }
 },
 "nbformat": 4,
 "nbformat_minor": 5
}
