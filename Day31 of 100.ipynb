{
 "cells": [
  {
   "cell_type": "markdown",
   "id": "dd59c24a",
   "metadata": {},
   "source": [
    "# 👉 Day 31 Challenge\n",
    "Create a classic user interface using string manipulation.\n",
    "\n",
    "Create these two user interfaces (below) using everything you know about extensions to print statements and f-strings.\n",
    "\n",
    "The second one is a bit more tricky as it involves alignment.\n",
    "\n",
    "There are no input statements. This is all about using print and variables in interesting ways. However, you may want to create a subroutine to make the color changing easier (like you did on Day 29)."
   ]
  },
  {
   "cell_type": "code",
   "execution_count": 1,
   "id": "ac98d6b6",
   "metadata": {},
   "outputs": [
    {
     "name": "stdout",
     "output_type": "stream",
     "text": [
      "             \u001b[31m=\u001b[0m=\u001b[34m=\u001b[33mMUSIC APP\u001b[34m=\u001b[0m=\u001b[31m=\n",
      "❤️‍🔥\u001b[0m-> RadioGaga\n",
      "👸\t\u001b[33m->Queen\n",
      "\u001b[0mprev                               \n",
      "\u001b[32m               next                \n",
      "\u001b[35m                               next\n",
      "\n",
      "\n",
      "\u001b[0m            WELCOME TO             \n",
      "\u001b[34m          ===ARM BOOK===           \n",
      "\u001b[33m           Definitely not a rip off\n",
      "\u001b[33m             a certain other social\n",
      "\u001b[33m                    networking site\n",
      "\u001b[31m              Honest               \n",
      "\u001b[0m             Username:             \n",
      "\u001b[0m             password:             \n"
     ]
    }
   ],
   "source": [
    "def colorChange(color):\n",
    "  if color == 'red':\n",
    "    return(\"\\033[31m\")\n",
    "  elif color == 'white':\n",
    "    return(\"\\033[0m\")\n",
    "  elif color =='blue':\n",
    "    return(\"\\033[34m\")\n",
    "  elif color =='yellow':\n",
    "    return(\"\\033[33m\")\n",
    "  elif color == 'green':\n",
    "    return(\"\\033[32m\")\n",
    "  elif color=='purple':\n",
    "    return(\"\\033[35m\")\n",
    "  elif color=='cyan':\n",
    "    return(\"\\033[36m\")\n",
    "  elif color=='black':\n",
    "    return(\"\\033[30m\")\n",
    "\n",
    "title =f\"{colorChange('red')}={colorChange('white')}={colorChange('blue')}={colorChange('yellow')}MUSIC APP{colorChange('blue')}={colorChange('white')}={colorChange('red')}=\"\n",
    "\n",
    "print(f\"             {title:^35}\")\n",
    "print(f\"❤️‍🔥{colorChange('white')}-> RadioGaga\")\n",
    "print(f\"👸\\t{colorChange('yellow')}->Queen\")\n",
    "\n",
    "\n",
    "prev= \"prev\"\n",
    "next = \"next\"\n",
    "pause = \"pause\"\n",
    "\n",
    "print(f\"{colorChange('white')}{prev:<35}\")\n",
    "print(f\"{colorChange('green')}{next:^35}\")\n",
    "print(f\"{colorChange('purple')}{next:>35}\")\n",
    "print()\n",
    "print()\n",
    "\n",
    "text= \"WELCOME TO\"\n",
    "print(f\"{colorChange('white')}{text:^35}\")\n",
    "text= \"===ARM BOOK===\"\n",
    "print(f\"{colorChange('blue')}{text:^35}\")\n",
    "text = \"Definitely not a rip off\"\n",
    "print(f\"{colorChange('yellow')}{text:>35}\")\n",
    "text = \"a certain other social\"\n",
    "print(f\"{colorChange('yellow')}{text:>35}\")\n",
    "text = \"networking site\"\n",
    "print(f\"{colorChange('yellow')}{text:>35}\")\n",
    "honest = \"Honest\"\n",
    "print(f\"{colorChange('red')}{honest:^35}\")\n",
    "\n",
    "\n",
    "\n",
    "username = \"Username:\"\n",
    "print(f\"{colorChange('white')}{username:^35}\")\n",
    "password =\"password:\"\n",
    "print(f\"{colorChange('white')}{password:^35}\")"
   ]
  },
  {
   "cell_type": "code",
   "execution_count": null,
   "id": "27a18a89",
   "metadata": {},
   "outputs": [],
   "source": []
  }
 ],
 "metadata": {
  "kernelspec": {
   "display_name": "base",
   "language": "python",
   "name": "python3"
  },
  "language_info": {
   "codemirror_mode": {
    "name": "ipython",
    "version": 3
   },
   "file_extension": ".py",
   "mimetype": "text/x-python",
   "name": "python",
   "nbconvert_exporter": "python",
   "pygments_lexer": "ipython3",
   "version": "3.12.7"
  }
 },
 "nbformat": 4,
 "nbformat_minor": 5
}
