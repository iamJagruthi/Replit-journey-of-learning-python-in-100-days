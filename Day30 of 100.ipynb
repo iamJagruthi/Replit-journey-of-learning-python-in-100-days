{
 "cells": [
  {
   "cell_type": "markdown",
   "id": "dd59c24a",
   "metadata": {},
   "source": [
    "## Day 30 Challenge\n",
    "# f-strings\n",
    "f-strings (format strings) are the best way to combine variables and text together. Everything up until now has been...well...awkward."
   ]
  },
  {
   "cell_type": "code",
   "execution_count": 3,
   "id": "18337db9",
   "metadata": {},
   "outputs": [
    {
     "name": "stdout",
     "output_type": "stream",
     "text": [
      "this is uma,using she/her pronouns, and is year 45 yr old . Hello,uma. How are you? Have you been having a great 45 years so far\n"
     ]
    }
   ],
   "source": [
    "name =  \"uma\"\n",
    "age = \"45\"\n",
    "pronouns = \"she/her\"\n",
    "\n",
    "print(\"this is {name},using {pronouns} pronouns, and is year {age} yr old . Hello,{name}. How are you? Have you been having a great {age} years so far\".format(name=name, pronouns=pronouns,age=age))\n"
   ]
  }
 ],
 "metadata": {
  "kernelspec": {
   "display_name": "base",
   "language": "python",
   "name": "python3"
  },
  "language_info": {
   "codemirror_mode": {
    "name": "ipython",
    "version": 3
   },
   "file_extension": ".py",
   "mimetype": "text/x-python",
   "name": "python",
   "nbconvert_exporter": "python",
   "pygments_lexer": "ipython3",
   "version": "3.12.7"
  }
 },
 "nbformat": 4,
 "nbformat_minor": 5
}
