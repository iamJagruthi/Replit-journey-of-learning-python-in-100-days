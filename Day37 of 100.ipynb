{
 "cells": [
  {
   "cell_type": "markdown",
   "id": "dd59c24a",
   "metadata": {},
   "source": [
    "# String Slicing\n",
    "Aren't strings brilliant? Yes, yes they are.\n",
    "\n",
    "However, sometimes we might want to take part of a string to use it somewhere else. Sometimes, we might want to look at just the first letter of a string or chop it into chunks.\n",
    "\n",
    "To do this, we use string slicing.\n",
    "\n",
    "A string isn't just one big lump of text. In fact it's a list of individual characters. This means that we can use indexing just like we did with lists waaay back on Day 32.\n",
    "\n",
    "By giving our program an index, we can specify which part of the string to chop out. 🪓🪓\n",
    "\n",
    "Pssst... When you see '#' followed by green text, these are comments for you. The computer will ignore it."
   ]
  },
  {
   "cell_type": "code",
   "execution_count": 1,
   "id": "32a82dc2",
   "metadata": {},
   "outputs": [
    {
     "name": "stdout",
     "output_type": "stream",
     "text": [
      "START WARS NAME GENERATOR\n",
      "Your Start Wars name is LilbloGriya\n"
     ]
    }
   ],
   "source": [
    "print(\"START WARS NAME GENERATOR\")\n",
    "\n",
    "all = input(\"Enter your first name, last name, Mum's maiden name and the city you were born in\").split()\n",
    "\n",
    "first = all[0].strip()\n",
    "last = all[1].strip()\n",
    "maiden = all[2].strip()\n",
    "city = all[3].strip()\n",
    "\n",
    "name = f\"{first[:3].title()}{last[:3].lower()}{maiden[:2].title()}{city[-3:].lower()}\"\n",
    "\n",
    "print(f\"Your Start Wars name is {name}\")\n"
   ]
  },
  {
   "cell_type": "code",
   "execution_count": null,
   "id": "9a05923d",
   "metadata": {},
   "outputs": [],
   "source": []
  }
 ],
 "metadata": {
  "kernelspec": {
   "display_name": "base",
   "language": "python",
   "name": "python3"
  },
  "language_info": {
   "codemirror_mode": {
    "name": "ipython",
    "version": 3
   },
   "file_extension": ".py",
   "mimetype": "text/x-python",
   "name": "python",
   "nbconvert_exporter": "python",
   "pygments_lexer": "ipython3",
   "version": "3.12.7"
  }
 },
 "nbformat": 4,
 "nbformat_minor": 5
}
