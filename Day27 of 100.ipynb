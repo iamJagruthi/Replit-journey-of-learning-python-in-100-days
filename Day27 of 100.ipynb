{
 "cells": [
  {
   "cell_type": "markdown",
   "id": "dd59c24a",
   "metadata": {},
   "source": [
    "## Day 27 Challenge ##\n",
    "\n",
    "Welcome to your first video game creation. You will create a video game that creates a character's health and attack stats...along with an epic name for your character.\n",
    "\n",
    "Do not delete today's code. You will be building upon it on Day 28.\n",
    "\n",
    "Write a subroutine that generates a character: first name and character type (human, imp, wizard, elf, etc.).\n",
    "Write a subroutine that multiplies a bunch of random dice rolls together to generate the character's health stats. Use this formula:\n",
    "\n",
    "Write a second subroutine that multiplies a bunch of random dice rolls together to generate the character's strength stats. Use this formula:\n",
    "Strength=(6-sided roll×12-sided roll3 )÷2+10\n",
    "\n",
    "Write a second subroutine that multiplies a bunch of random dice rolls together to generate the character's strength stats. Use this formula:\n",
    "Strength=(6-sided roll×12-sided roll3 )÷2+12\n",
    "\n",
    "Present the data in a menu with time.sleep and os.system(\"clear\") to make it appealing.\n",
    "Wrap it in a loop so the user has the option to create another character."
   ]
  },
  {
   "cell_type": "code",
   "execution_count": 1,
   "id": "5645d740",
   "metadata": {},
   "outputs": [
    {
     "name": "stdout",
     "output_type": "stream",
     "text": [
      "('wizard', 'wizard')\n",
      "\u001b[31m the health of your legend 14\n",
      "\u001b[31m the strength of your legend is 21\n"
     ]
    }
   ],
   "source": [
    "import random\n",
    "def generate_character():\n",
    "  firstname = input(\"NAME YOUR LEGEND:\")\n",
    "  character_type= [\"human\",\"wizard\",\"bitch\"]\n",
    "  character_type = random.choice(character_type)\n",
    "  return(firstname,character_type)\n",
    "  \n",
    "def generate_health_stats():\n",
    "  dice1 =  random.randint(1,6)\n",
    "  dice2 =  random.randint(1,12)\n",
    "  health = int((dice1+dice2)//2 +10)\n",
    "  return health\n",
    "def generate_strength_stats():\n",
    "  dice3 =  random.randint(1,6)\n",
    "  dice4 =  random.randint(1,12)\n",
    "  strength = int((dice3+dice4//2 +12))\n",
    "  return strength\n",
    "print(generate_character())\n",
    "print(\"\\033[31m\",\"the health of your legend\",generate_health_stats())\n",
    "print(\"\\033[31m\",\"the strength of your legend is\",generate_strength_stats())"
   ]
  },
  {
   "cell_type": "code",
   "execution_count": null,
   "id": "78e09a85",
   "metadata": {},
   "outputs": [],
   "source": []
  }
 ],
 "metadata": {
  "kernelspec": {
   "display_name": "base",
   "language": "python",
   "name": "python3"
  },
  "language_info": {
   "codemirror_mode": {
    "name": "ipython",
    "version": 3
   },
   "file_extension": ".py",
   "mimetype": "text/x-python",
   "name": "python",
   "nbconvert_exporter": "python",
   "pygments_lexer": "ipython3",
   "version": "3.12.7"
  }
 },
 "nbformat": 4,
 "nbformat_minor": 5
}
