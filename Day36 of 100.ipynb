{
 "cells": [
  {
   "cell_type": "markdown",
   "id": "dd59c24a",
   "metadata": {},
   "source": [
    "# String Manipulation\n",
    "Let's do some string manipulation to make if statements even easier.\n",
    "\n",
    "👉 Does this code look familiar from the insult generator project?\n",
    "\n",
    "name = input(\"What's your name? \")\n",
    "if name == \"David\" or name == \"david\":\n",
    "  print(\"Hello Baldy!\")\n",
    "else: \n",
    "  print(\"What a beautiful head of hair!\")\n",
    "Right now, if the user writes \"DAVID\" or \"david\", the if statement works correctly. However, \"DaVID\" does not give the correct output.\n",
    "\n",
    "To the computer, \" david\", \"dAviD\", and \"david\" are completely different.\n",
    "\n",
    "To simplify what the user typed in, we can add these functions to the end of the name of the variable:\n",
    ".lower = all letters are lower case\n",
    ".upper = all letters are upper case\n",
    ".title = capital letter for the first letter of every word\n",
    ".capitalize = capital letter for the first letter of only the first word"
   ]
  },
  {
   "cell_type": "code",
   "execution_count": null,
   "id": "27a18a89",
   "metadata": {},
   "outputs": [
    {
     "name": "stdout",
     "output_type": "stream",
     "text": [
      "\n",
      "Manchi Jagruthi\n",
      "\n"
     ]
    }
   ],
   "source": [
    "rolodex = []\n",
    "\n",
    "def printList():\n",
    "  print()\n",
    "  for name in rolodex:\n",
    "    print(name)\n",
    "  print()\n",
    "\n",
    "while True:\n",
    "  firstName= input(\"First Name:\").strip().capitalize()\n",
    "  lastname= input(\"Last Name:\").strip().capitalize()\n",
    "  name = f\"{firstName} {lastname}\"\n",
    "  if name not in rolodex:\n",
    "    rolodex.append(name)\n",
    "  else:\n",
    "    print(\"ERROR: Duplicate name\")\n",
    "  printList()"
   ]
  },
  {
   "cell_type": "code",
   "execution_count": null,
   "id": "32a82dc2",
   "metadata": {},
   "outputs": [],
   "source": []
  }
 ],
 "metadata": {
  "kernelspec": {
   "display_name": "base",
   "language": "python",
   "name": "python3"
  },
  "language_info": {
   "codemirror_mode": {
    "name": "ipython",
    "version": 3
   },
   "file_extension": ".py",
   "mimetype": "text/x-python",
   "name": "python",
   "nbconvert_exporter": "python",
   "pygments_lexer": "ipython3",
   "version": "3.12.7"
  }
 },
 "nbformat": 4,
 "nbformat_minor": 5
}
