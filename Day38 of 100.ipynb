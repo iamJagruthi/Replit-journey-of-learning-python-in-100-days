{
 "cells": [
  {
   "cell_type": "markdown",
   "id": "dd59c24a",
   "metadata": {},
   "source": [
    "# day 38 of 100 days with python\n",
    "# Strings and Loops\n",
    "Now that we know that strings are basically lists in disguise, we can start to harness the power of loops with them.\n",
    "\n",
    "Let's look a bit further into string slicing.\n",
    "\n",
    "Using a for loop\n",
    "👉 This for loop creates a variable called letter. It is used to store each character in the string as the loop goes through it, starting at the first character.\n",
    "\n",
    "The print statement uses the letter variable and will output the string one character at a time (like a list)."
   ]
  },
  {
   "cell_type": "code",
   "execution_count": 1,
   "id": "9a05923d",
   "metadata": {},
   "outputs": [
    {
     "name": "stdout",
     "output_type": "stream",
     "text": [
      "\u001b[31mr\n"
     ]
    }
   ],
   "source": [
    "def colorChange(color):\n",
    "  if color==\"r\":\n",
    "    print(\"\\033[31m\", end=\"\")\n",
    "  elif color==\" \":\n",
    "    print(\"\\033[0m\", end=\"\")\n",
    "  elif color==\"b\":\n",
    "    print(\"\\033[34m\", end=\"\")\n",
    "  elif color==\"y\":\n",
    "    print(\"\\033[33m\", end=\"\")\n",
    "  elif color == \"g\":\n",
    "    print(\"\\033[32m\", end=\"\")\n",
    "  elif color == \"p\":\n",
    "    print(\"\\033[35m\", end=\"\")\n",
    "sentence = input(\"What sentence do you want rainbow-izing?: \")\n",
    "for letter in sentence:\n",
    "  colorChange(letter.lower())\n",
    "  print(letter, end=\"\")\n",
    "print()"
   ]
  },
  {
   "cell_type": "code",
   "execution_count": null,
   "id": "118ea340",
   "metadata": {},
   "outputs": [],
   "source": []
  }
 ],
 "metadata": {
  "kernelspec": {
   "display_name": "base",
   "language": "python",
   "name": "python3"
  },
  "language_info": {
   "codemirror_mode": {
    "name": "ipython",
    "version": 3
   },
   "file_extension": ".py",
   "mimetype": "text/x-python",
   "name": "python",
   "nbconvert_exporter": "python",
   "pygments_lexer": "ipython3",
   "version": "3.12.7"
  }
 },
 "nbformat": 4,
 "nbformat_minor": 5
}
