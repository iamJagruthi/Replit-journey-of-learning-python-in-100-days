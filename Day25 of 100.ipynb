{
 "cells": [
  {
   "cell_type": "markdown",
   "id": "dd59c24a",
   "metadata": {},
   "source": [
    "## Return Command ##\n",
    "Let's go deeper into subroutines. Can they send information back to the main part of the program?\n",
    "\n",
    "Let's do this with the return command.\n",
    "The return command sends some information back to the part of the code that called it. This means the function call is replaced with whatever was returned.\n",
    "\n",
    "We saw this before with importing libraries and random numbers. We could use the random number wherever we wanted.\n",
    "\n",
    "Pin Picker\n",
    "This subroutine creates a random pin number for us. This subroutine (called pinPicker) has the parameter called number (how many numbers I want to have in this pin). Then, there is a string (called pin) that is empty and a for loop that is used to create a defined amount of random numbers. The variable number controls how many times the loop will add the new number to the pin. This is done through += and concatenating new values. We will cast the random number as a string so it can be concatenated together.\n",
    "\n",
    "Then...the magic...we return the pin."
   ]
  },
  {
   "cell_type": "code",
   "execution_count": 1,
   "id": "ec2b1b9a",
   "metadata": {},
   "outputs": [
    {
     "name": "stdout",
     "output_type": "stream",
     "text": [
      "\u001b[32m Their health is health\n",
      "10\n"
     ]
    }
   ],
   "source": [
    "import random\n",
    "def roll_dice_and_multiply():\n",
    "  die1 = random.randint(1,6)\n",
    "  die2 = random.randint(1,8)\n",
    "  warrior = input(\"NAME YOUR WARRIOR:\")\n",
    "  if warrior == \"agnes\":\n",
    "    print(\"\\033[32m\",\"Their health is\",\"health\")\n",
    "  elif warrior == \"Ian\":\n",
    "    print(\"\\033[34m\",\"Their health is\",\"health\")\n",
    "  elif warrior == \"Penelope\":\n",
    "    print(\"\\033[36m\",\"Their health is\",\"health\")\n",
    "  else:\n",
    "    print(\"\\033[31m\",\"Try again:(\")\n",
    "  health = die1 * die2\n",
    "  print(health)\n",
    "roll_dice_and_multiply()"
   ]
  },
  {
   "cell_type": "code",
   "execution_count": null,
   "id": "93e176a7",
   "metadata": {},
   "outputs": [],
   "source": []
  }
 ],
 "metadata": {
  "kernelspec": {
   "display_name": "base",
   "language": "python",
   "name": "python3"
  },
  "language_info": {
   "codemirror_mode": {
    "name": "ipython",
    "version": 3
   },
   "file_extension": ".py",
   "mimetype": "text/x-python",
   "name": "python",
   "nbconvert_exporter": "python",
   "pygments_lexer": "ipython3",
   "version": "3.12.7"
  }
 },
 "nbformat": 4,
 "nbformat_minor": 5
}
