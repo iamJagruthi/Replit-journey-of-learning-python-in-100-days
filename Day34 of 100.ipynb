{
 "cells": [
  {
   "cell_type": "markdown",
   "id": "dd59c24a",
   "metadata": {},
   "source": [
    "# Day 34 challenge \n",
    "# Pretty print Functions\n",
    "Let's build a pretty print subroutine! So far all the subrouintes you have made have been pretty boring...just saying.\n",
    "\n",
    "When we have a list of data, being able to print out that data in pretty ways is something we need to be able to do. So \"pretty printing\" is actually a thing.\n",
    "\n",
    "👉 I have created a program called \"Spammer Inc.\" to spam emails (obviously this is not something you would actually do). If the user presses 1, they can add an email, and pressing 2 allows them to remove an email. (Hint: This should all look familiar so far)."
   ]
  },
  {
   "cell_type": "code",
   "execution_count": null,
   "id": "4e70a207",
   "metadata": {},
   "outputs": [
    {
     "name": "stdout",
     "output_type": "stream",
     "text": [
      "Yummy Food Restaurant\n",
      "Yummy Food Restaurant\n",
      "Yummy Food Restaurant\n",
      "Yummy Food Restaurant\n"
     ]
    }
   ],
   "source": [
    "import os, time\n",
    "listOfFood = []\n",
    "def prettyPrint():\n",
    "  os.system(\"clear\") \n",
    "  print(\"listofFood\") \n",
    "  print()\n",
    "  counter = 1 \n",
    "  for order in listOfFood: \n",
    "    print(f\"{counter}: {order}\") \n",
    "    counter += 1 \n",
    "  time.sleep(1)\n",
    "while True:\n",
    "  print(\"Yummy Food Restaurant\")\n",
    "  menu = input(\"1. Order food\\n2: Delete order\\n3. Leave a review\\n4. Delivery\\n> \")\n",
    "  if menu == \"1\":\n",
    "    order = input(\"order > \")\n",
    "    listOfFood.append(order)\n",
    "  elif menu ==\"2\":\n",
    "    order = input (\"delete order> \")\n",
    "    if order in listOfFood:\n",
    "      listOfFood.remove(order)\n",
    "  elif menu == \"3\": \n",
    "    prettyPrint() \n",
    "  time.sleep(1)\n",
    "  os.system(\"clear\")"
   ]
  }
 ],
 "metadata": {
  "kernelspec": {
   "display_name": "base",
   "language": "python",
   "name": "python3"
  },
  "language_info": {
   "codemirror_mode": {
    "name": "ipython",
    "version": 3
   },
   "file_extension": ".py",
   "mimetype": "text/x-python",
   "name": "python",
   "nbconvert_exporter": "python",
   "pygments_lexer": "ipython3",
   "version": "3.12.7"
  }
 },
 "nbformat": 4,
 "nbformat_minor": 5
}
