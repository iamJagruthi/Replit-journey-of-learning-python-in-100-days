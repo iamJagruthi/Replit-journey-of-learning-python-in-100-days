{
 "cells": [
  {
   "cell_type": "markdown",
   "id": "dd59c24a",
   "metadata": {},
   "source": [
    "# 👉 Day 35 Challenge\n",
    "Build a really cool to do list manager. (I know we did this before...hold on!)\n",
    "\n",
    "We are going to upgrade the last to do list manager we created:\n",
    "\n",
    "Create a menu where the user can view, add, or remove an item.\n",
    "The user should be able to edit the text of an item on the list too.\n",
    "Don't allow the user to add duplicates.\n",
    "Double check with the user they want to remove an item from the list before it is actually removed. (Is this the item they really want to remove?)\n",
    "Give the user the option to completely erase the to do list. (You should be able to do this in one line of code!)"
   ]
  },
  {
   "cell_type": "code",
   "execution_count": null,
   "id": "b8182a8e",
   "metadata": {},
   "outputs": [],
   "source": [
    "import os ,time\n",
    "toDoList = []\n",
    "\n",
    "def printlist():\n",
    "  print()\n",
    "  for items in toDoList:\n",
    "    print(items)\n",
    "  print()\n",
    "\n",
    "while True:\n",
    "  menu= input(\"ToDoList Manager\\nDO you want to view, add, edit, remove or delete the todo list?\\n\")\n",
    "  if menu ==\"view\":\n",
    "    printList()\n",
    "  elif menu == \"add\":\n",
    "    item = input(\"What do you want to add?\\n\").title()\n",
    "    toDoList.append(item)\n",
    "  elif menu == \"remove\":\n",
    "    item = input(\"What do you want to remove?\\n\").title()\n",
    "    check= input(\"Are you sure you want to remove this?\\n\")\n",
    "    if check[0]==\"y\":\n",
    "      if item in toDoList:\n",
    "        toDoList.remove(item)\n",
    "  elif menu == \"edit\":\n",
    "    item = input(\"What do you want to change it to?\\n\").title()\n",
    "    for i in range(0,len(toDoList)):\n",
    "      if toDoList[i]==item:\n",
    "        toDoList[i]==new\n",
    "  elif menu == \"delete\":\n",
    "    toDoList = []\n",
    "    time.sleep(1)\n",
    "    os.system('clear')"
   ]
  },
  {
   "cell_type": "code",
   "execution_count": null,
   "id": "5d1e6e07",
   "metadata": {},
   "outputs": [],
   "source": []
  }
 ],
 "metadata": {
  "kernelspec": {
   "display_name": "base",
   "language": "python",
   "name": "python3"
  },
  "language_info": {
   "codemirror_mode": {
    "name": "ipython",
    "version": 3
   },
   "file_extension": ".py",
   "mimetype": "text/x-python",
   "name": "python",
   "nbconvert_exporter": "python",
   "pygments_lexer": "ipython3",
   "version": "3.12.7"
  }
 },
 "nbformat": 4,
 "nbformat_minor": 5
}
