{
 "cells": [
  {
   "cell_type": "markdown",
   "id": "8054b841",
   "metadata": {},
   "source": [
    "# Day 43\n",
    "Take Your List To A New Dimension\n",
    "Pay close attention, folks, because 2D lists are basically tables.\n",
    "\n",
    "Tables are two-dimensional data structures where we can store data both vertically and horizontally.\n",
    "\n",
    "Usually this means that vertical data is used for fields (one category - name, ID, favorite biscuit, etc.) and horizontal data is used for records (all the data for each category).\n",
    "\n",
    "Behind the scenes, we see a list inside a list. Forget what you know about reading a table with math or geography: 'across the corridor (x-axis) first and then down the stairs (y-axis)'."
   ]
  },
  {
   "cell_type": "code",
   "execution_count": 1,
   "id": "455f6c5e",
   "metadata": {},
   "outputs": [
    {
     "name": "stdout",
     "output_type": "stream",
     "text": [
      "[17, 30, 54]\n",
      "[55, 'BINGO', 72]\n",
      "[78, 82, 96]\n"
     ]
    }
   ],
   "source": [
    "import random\n",
    "\n",
    "bingo= []\n",
    "\n",
    "def ran():\n",
    "  number = random.randint(1,99)\n",
    "  return number\n",
    "\n",
    "def prettyPrint():\n",
    "  for row in bingo:\n",
    "    print(row)\n",
    "    \n",
    "numbers= []\n",
    "for i in range(8):\n",
    "  numbers.append(ran())\n",
    "\n",
    "numbers.sort()\n",
    "\n",
    "bingo =[ [ numbers[0], numbers[1], numbers[2]],\n",
    "         [numbers[3], \"BINGO\",numbers[4]],\n",
    "         [numbers[5],numbers[6], numbers[7]]\n",
    "       ]\n",
    "\n",
    "prettyPrint()"
   ]
  },
  {
   "cell_type": "code",
   "execution_count": null,
   "id": "67877ca7",
   "metadata": {},
   "outputs": [],
   "source": []
  }
 ],
 "metadata": {
  "kernelspec": {
   "display_name": "base",
   "language": "python",
   "name": "python3"
  },
  "language_info": {
   "codemirror_mode": {
    "name": "ipython",
    "version": 3
   },
   "file_extension": ".py",
   "mimetype": "text/x-python",
   "name": "python",
   "nbconvert_exporter": "python",
   "pygments_lexer": "ipython3",
   "version": "3.12.7"
  }
 },
 "nbformat": 4,
 "nbformat_minor": 5
}
