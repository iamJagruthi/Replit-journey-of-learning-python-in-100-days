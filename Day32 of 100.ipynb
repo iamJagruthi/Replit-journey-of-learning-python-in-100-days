{
 "cells": [
  {
   "cell_type": "markdown",
   "id": "dd59c24a",
   "metadata": {},
   "source": [
    "# Day 32 of 100 days python\n",
    "# Lists\n",
    "In Computer Science, we learn about a data structure called arrays. Arrays are a place to store more than one thing with the same variable name.\n",
    "\n",
    "However, Python uses lists instead. Lists are literally lists of items. Any piece of data from any data type can go into a list. We can extract, remove, or change lists.\n",
    "\n",
    "You may be asking: \"What is the point of a list?\"\n",
    "\n",
    "Sometimes, you don't always know how much data you need to store. We can use a loop to move through data in a list without having to first manually tell the computer how many things are in that list."
   ]
  },
  {
   "cell_type": "code",
   "execution_count": null,
   "id": "27a18a89",
   "metadata": {},
   "outputs": [],
   "source": [
    "import random \n",
    "greetings =[\"How are you?\", \"bagunnava?\",\"kaisa hai?\",\"Nīvu hegiddiri\",\"Eppaṭi irukkirīrkal\",\"Tū kasā ahesa\",\"sukhamaaneaa\",]\n",
    "random_greeting = random.choice(greetings)\n",
    "print(random_greeting)"
   ]
  }
 ],
 "metadata": {
  "kernelspec": {
   "display_name": "base",
   "language": "python",
   "name": "python3"
  },
  "language_info": {
   "codemirror_mode": {
    "name": "ipython",
    "version": 3
   },
   "file_extension": ".py",
   "mimetype": "text/x-python",
   "name": "python",
   "nbconvert_exporter": "python",
   "pygments_lexer": "ipython3",
   "version": "3.12.7"
  }
 },
 "nbformat": 4,
 "nbformat_minor": 5
}
