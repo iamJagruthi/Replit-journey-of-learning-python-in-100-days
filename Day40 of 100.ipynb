{
 "cells": [
  {
   "cell_type": "markdown",
   "id": "dd59c24a",
   "metadata": {},
   "source": [
    "# day 40 of 100 \n",
    "Dictionaries\n",
    "As you might have guessed, we love lists. However, list items are accessed in order by index number. This isn't always the way we want it to work.\n",
    "\n",
    "Dictionaries are a slightly different type of list that access data by giving each item a key. This creates what we call key:value pairs.\n",
    "\n",
    "Now we can access each item through its key, instead of having to remember what index it is at in the list.\n",
    "\n",
    "Creating a dictionary - brace!\n",
    "Curly, curly braces...\n",
    "\n",
    "To create a dictionary we start just like a list, except with curly braces {}. This dictionary will store data about a user.\n",
    "\n",
    "👉 The first key:value pair below has \"name\" as the key and \"David\" as the value. Try it out:\n",
    "\n",
    "myUser = {\"name\": \"David\", \"age\": 128}\n",
    "Printing the keys\n",
    "To output (print) from a dictionary, we can use the key instead of the index. Note that we still use square brackets for accessing items (ex: [\"name\"]).\n",
    "\n",
    "\n",
    "\n",
    "👉 Let's print \"name\".\n",
    "\n",
    "myUser = {\"name\": \"David\", \"age\": 128}\n",
    "\n",
    "print(myUser[\"name\"])\n",
    "\n",
    "# This code outputs 'David'."
   ]
  },
  {
   "cell_type": "code",
   "execution_count": 1,
   "id": "67b518eb",
   "metadata": {},
   "outputs": [
    {
     "name": "stdout",
     "output_type": "stream",
     "text": [
      "\n",
      "Name: Jagruthi\n",
      "DOB: 3007200\n",
      "phone_number: 9876543210\n",
      "email: itsjag@gmail.com\n",
      "address: secunderabad Telangana\n"
     ]
    }
   ],
   "source": [
    "name = input(\"Name:\").strip().capitalize()\n",
    "dob= input(\"Date of Birth:\").strip().capitalize()\n",
    "phone_number = input(\"Telephone number:\").strip().capitalize()\n",
    "email = input(\"EmailId:\").strip()\n",
    "address = input(\"Address: \")\n",
    "contact = {\"name\":name, \"dob\":dob, \"phone_number\":phone_number,\"email\":email,\"address\":address}\n",
    "\n",
    "print()\n",
    "print(f\"\"\"Name: {contact[\"name\"]}\"\"\")\n",
    "print(f\"\"\"DOB: {contact[\"dob\"]}\"\"\")\n",
    "print(f\"\"\"phone_number: {contact[\"phone_number\"]}\"\"\")\n",
    "print(f\"\"\"email: {contact[\"email\"]}\"\"\")\n",
    "print(f\"\"\"address: {contact[\"address\"]}\"\"\")"
   ]
  },
  {
   "cell_type": "code",
   "execution_count": null,
   "id": "69d7cb18",
   "metadata": {},
   "outputs": [],
   "source": []
  }
 ],
 "metadata": {
  "kernelspec": {
   "display_name": "base",
   "language": "python",
   "name": "python3"
  },
  "language_info": {
   "codemirror_mode": {
    "name": "ipython",
    "version": 3
   },
   "file_extension": ".py",
   "mimetype": "text/x-python",
   "name": "python",
   "nbconvert_exporter": "python",
   "pygments_lexer": "ipython3",
   "version": "3.12.7"
  }
 },
 "nbformat": 4,
 "nbformat_minor": 5
}
