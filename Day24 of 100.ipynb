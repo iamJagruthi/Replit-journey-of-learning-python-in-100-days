{
 "cells": [
  {
   "cell_type": "markdown",
   "id": "dd59c24a",
   "metadata": {},
   "source": [
    "## Parameters ##\n",
    "\n",
    "I get it. So far, subroutines have been a bit underwhelming...\n",
    "\n",
    "Let's put those subroutines to better use by sending them information using parameters and making them do different things based on different inputs.\n",
    "\n",
    "If you change the ingredients in a recipe, you get a different kind of cake. Let's do that with subroutines.\n",
    "\n",
    "In a subroutine, the () are for the argument (FYI argument is another word for parameter). These are the pieces of information we pass to the code. These can be variable names that are made up for the first time within the argument ()."
   ]
  },
  {
   "cell_type": "code",
   "execution_count": 3,
   "id": "373ea584",
   "metadata": {},
   "outputs": [
    {
     "name": "stdout",
     "output_type": "stream",
     "text": [
      "you've rolled 1\n",
      "you've rolled 2\n",
      "thanks for playing\n"
     ]
    }
   ],
   "source": [
    "import random\n",
    "\n",
    "def roll_dice(sides):\n",
    "  return random.randint(1,sides)\n",
    "  \n",
    "sides = int(input(\"how many sides do you want?:\"))\n",
    "\n",
    "playing = True\n",
    "while playing:\n",
    "  result=roll_dice(sides)\n",
    "  print(\"you've rolled\",result)\n",
    "\n",
    "  again = input(\"wanna play again? yes or no\")\n",
    "  if again.lower()== \"no\":\n",
    "     playing = False\n",
    "\n",
    "print(\"thanks for playing\")"
   ]
  },
  {
   "cell_type": "code",
   "execution_count": null,
   "id": "93e176a7",
   "metadata": {},
   "outputs": [],
   "source": []
  }
 ],
 "metadata": {
  "kernelspec": {
   "display_name": "base",
   "language": "python",
   "name": "python3"
  },
  "language_info": {
   "codemirror_mode": {
    "name": "ipython",
    "version": 3
   },
   "file_extension": ".py",
   "mimetype": "text/x-python",
   "name": "python",
   "nbconvert_exporter": "python",
   "pygments_lexer": "ipython3",
   "version": "3.12.7"
  }
 },
 "nbformat": 4,
 "nbformat_minor": 5
}
