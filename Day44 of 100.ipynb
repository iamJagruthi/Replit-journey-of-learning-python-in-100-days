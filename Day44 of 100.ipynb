{
 "cells": [
  {
   "cell_type": "markdown",
   "id": "8054b841",
   "metadata": {},
   "source": [
    "# Day 44\n",
    "2D Dynamic Lists\n",
    "Dynamic lists are lists that we populate as we go, getting user input and adding it to the list as we go.\n",
    "\n",
    "We're combining several techniques here. I've left detailed code comments to help. Remember, comments can be found with # comment in green inside the code.\n",
    "\n",
    "Loops, append() and break\n",
    "Here's an example to get some simple user details(name, age, computer preference) and add it to a list as a full row. This list will keep taking input until the user answers 'y' to the 'exit?' question.\n",
    "\n",
    "Once we collect the user's input in a row, we will append the entire row to the list. The columns are maintained and we are keeping the structure of 2D lists."
   ]
  },
  {
   "cell_type": "code",
   "execution_count": null,
   "id": "851079c2",
   "metadata": {},
   "outputs": [],
   "source": []
  },
  {
   "cell_type": "code",
   "execution_count": null,
   "id": "ed525ed1",
   "metadata": {},
   "outputs": [
    {
     "name": "stdout",
     "output_type": "stream",
     "text": [
      "4\t|\t7\t|\t13\t|\t\n",
      "25\t|\tBINGO\t|\t34\t|\t\n",
      "36\t|\t39\t|\t81\t|\t\n",
      "4\t|\t7\t|\t13\t|\t\n",
      "25\t|\tBINGO\t|\t34\t|\t\n",
      "36\t|\t39\t|\t81\t|\t\n",
      "4\t|\t7\t|\tX\t|\t\n",
      "25\t|\tBINGO\t|\t34\t|\t\n",
      "36\t|\t39\t|\t81\t|\t\n",
      "4\t|\t7\t|\tX\t|\t\n",
      "25\t|\tBINGO\t|\t34\t|\t\n",
      "36\t|\tX\t|\t81\t|\t\n",
      "4\t|\tX\t|\tX\t|\t\n",
      "25\t|\tBINGO\t|\t34\t|\t\n",
      "36\t|\tX\t|\t81\t|\t\n",
      "X\t|\tX\t|\tX\t|\t\n",
      "25\t|\tBINGO\t|\t34\t|\t\n",
      "36\t|\tX\t|\t81\t|\t\n"
     ]
    }
   ],
   "source": [
    "import random, os, time\n",
    "\n",
    "bingo = []\n",
    "\n",
    "def ran():\n",
    "    number = random.randint(1, 90)\n",
    "    return number\n",
    "\n",
    "def prettyPrint():\n",
    "    for row in bingo:\n",
    "        for item in row:\n",
    "            print(item, end=\"\\t|\\t\")\n",
    "        print()\n",
    "\n",
    "def createCard():\n",
    "    global bingo\n",
    "    numbers = []\n",
    "    while len(numbers) < 8:\n",
    "        num = ran()\n",
    "        if num not in numbers:\n",
    "            numbers.append(num)\n",
    "\n",
    "    numbers.sort()\n",
    "    bingo = [\n",
    "        [numbers[0], numbers[1], numbers[2]],\n",
    "        [numbers[3], \"BINGO\", numbers[4]],\n",
    "        [numbers[5], numbers[6], numbers[7]]\n",
    "    ]\n",
    "\n",
    "createCard()  # Called only once to initialize the card\n",
    "\n",
    "while True:\n",
    "    prettyPrint()\n",
    "    try:\n",
    "        num = int(input(\"Next Number: \"))\n",
    "    except ValueError:\n",
    "        print(\"Please enter a valid number.\")\n",
    "        continue\n",
    "\n",
    "    for row in range(3):\n",
    "        for col in range(3):\n",
    "            if bingo[row][col] == num:\n",
    "                bingo[row][col] = \"X\"\n",
    "\n",
    "    exes = 0\n",
    "    for row in bingo:\n",
    "        for item in row:\n",
    "            if item == \"X\":\n",
    "                exes += 1\n",
    "\n",
    "    if exes == 8:\n",
    "        print(\"You have won\")\n",
    "        break\n",
    "\n",
    "    time.sleep(1)\n",
    "    os.system(\"cls\" if os.name == \"nt\" else \"clear\")\n"
   ]
  },
  {
   "cell_type": "code",
   "execution_count": null,
   "id": "21ce48ef",
   "metadata": {},
   "outputs": [],
   "source": []
  }
 ],
 "metadata": {
  "kernelspec": {
   "display_name": "base",
   "language": "python",
   "name": "python3"
  },
  "language_info": {
   "codemirror_mode": {
    "name": "ipython",
    "version": 3
   },
   "file_extension": ".py",
   "mimetype": "text/x-python",
   "name": "python",
   "nbconvert_exporter": "python",
   "pygments_lexer": "ipython3",
   "version": "3.12.7"
  }
 },
 "nbformat": 4,
 "nbformat_minor": 5
}
